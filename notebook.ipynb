{
 "cells": [
  {
   "cell_type": "code",
   "execution_count": 8,
   "metadata": {},
   "outputs": [
    {
     "data": {
      "text/plain": [
       "'The new context provides a deeper understanding of the oppressive and surveillance-filled environment in which Winston lives. It further emphasizes the constant monitoring and control imposed by the Party, with the presence of telescreens and posters reinforcing the idea that Big Brother is always watching. This heightened level of surveillance and lack of privacy in Winston\\'s living space at Victory Mansions underscores the extreme measures taken by the Party to maintain power and suppress any form of dissent. Therefore, the refined answer would be:\\n\\nWinston lives in Victory Mansions, a cramped and dilapidated apartment complex provided by the Party in the dystopian society of George Orwell\\'s novel \"1984.\" The surveillance and control imposed by the Party, including telescreens and propaganda posters, create an oppressive atmosphere where every move and sound made by the inhabitants, including Winston, are monitored and scrutinized. In this environment, Winston\\'s small alcove in his apartment becomes a rare space where he can briefly escape the constant surveillance and engage in acts of rebellion, such as reading forbidden books.'"
      ]
     },
     "execution_count": 8,
     "metadata": {},
     "output_type": "execute_result"
    }
   ],
   "source": [
    "from langchain.document_loaders import UnstructuredFileLoader\n",
    "from langchain.text_splitter import CharacterTextSplitter\n",
    "from langchain.embeddings import OpenAIEmbeddings, CacheBackedEmbeddings\n",
    "from langchain.vectorstores import FAISS\n",
    "from langchain.storage import LocalFileStore\n",
    "from langchain.chains import RetrievalQA\n",
    "from langchain.chat_models.openai import ChatOpenAI\n",
    "\n",
    "__import__(\"pysqlite3\")\n",
    "import sys\n",
    "\n",
    "llm = ChatOpenAI()\n",
    "\n",
    "cache_dir = LocalFileStore(\"./.cache/\")\n",
    "\n",
    "sys.modules[\"sqlite3\"] = sys.modules.pop(\"pysqlite3\")\n",
    "\n",
    "splitter = CharacterTextSplitter.from_tiktoken_encoder(\n",
    "    separator=\"\\n\", chunk_size=600, chunk_overlap=100\n",
    ")\n",
    "\n",
    "loader = UnstructuredFileLoader(\"./examples/chapter_one.md\")\n",
    "\n",
    "docs = loader.load_and_split(text_splitter=splitter)\n",
    "\n",
    "embeddings = OpenAIEmbeddings()\n",
    "\n",
    "cached_embeddings = CacheBackedEmbeddings.from_bytes_store(embeddings, cache_dir)\n",
    "\n",
    "vectorstore = FAISS.from_documents(docs, cached_embeddings)\n",
    "\n",
    "chain = RetrievalQA.from_chain_type(\n",
    "    llm=llm, chain_type=\"stuff\", retriever=vectorstore.as_retriever()\n",
    ")\n",
    "\n",
    "chain.run(\"What does Winston live in?\")"
   ]
  },
  {
   "cell_type": "code",
   "execution_count": null,
   "metadata": {},
   "outputs": [],
   "source": []
  }
 ],
 "metadata": {
  "kernelspec": {
   "display_name": "env",
   "language": "python",
   "name": "python3"
  },
  "language_info": {
   "codemirror_mode": {
    "name": "ipython",
    "version": 3
   },
   "file_extension": ".py",
   "mimetype": "text/x-python",
   "name": "python",
   "nbconvert_exporter": "python",
   "pygments_lexer": "ipython3",
   "version": "3.11.8"
  }
 },
 "nbformat": 4,
 "nbformat_minor": 2
}
