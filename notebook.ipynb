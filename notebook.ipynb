{
 "cells": [
  {
   "cell_type": "code",
   "execution_count": 10,
   "metadata": {},
   "outputs": [
    {
     "name": "stdout",
     "output_type": "stream",
     "text": [
      "AI: \n",
      "            한국에서 친척이랑 할머니, 할아버지 산소에 갈 때에는 다음과 같은 아이템을 추천합니다:\n",
      "            -휴대용 의자 (산소에서 휴식을 취할 수 있는 휴대용 의자)\n",
      "            -햇빛 차단용품 (모자, 선글라스, 선크림 등)\n",
      "            -보조배터리 (전원이 필요한 경우를 대비하여)\n",
      "            -휴대용 팬 (더운 날씨에 시원함을 유지하기 위해)\n",
      "            -간식 (산소에서 즐길 수 있는 간식)"
     ]
    },
    {
     "data": {
      "text/plain": [
       "AIMessageChunk(content='AI: \\n            한국에서 친척이랑 할머니, 할아버지 산소에 갈 때에는 다음과 같은 아이템을 추천합니다:\\n            -휴대용 의자 (산소에서 휴식을 취할 수 있는 휴대용 의자)\\n            -햇빛 차단용품 (모자, 선글라스, 선크림 등)\\n            -보조배터리 (전원이 필요한 경우를 대비하여)\\n            -휴대용 팬 (더운 날씨에 시원함을 유지하기 위해)\\n            -간식 (산소에서 즐길 수 있는 간식)')"
      ]
     },
     "execution_count": 10,
     "metadata": {},
     "output_type": "execute_result"
    }
   ],
   "source": [
    "from langchain.chat_models import ChatOpenAI\n",
    "from langchain.prompts import PromptTemplate\n",
    "from langchain.prompts.few_shot import FewShotPromptTemplate\n",
    "from langchain.callbacks import StreamingStdOutCallbackHandler\n",
    "\n",
    "chat = ChatOpenAI(\n",
    "    max_tokens=1000,\n",
    "    temperature=0.1,\n",
    "    streaming=True,\n",
    "    callbacks=[StreamingStdOutCallbackHandler()]\n",
    ")\n",
    "\n",
    "examples = [\n",
    "    {\n",
    "        \"question\": \"집에서 코딩을 할 때 가지고 있으면 좋은 아이템을 알려줘.\",\n",
    "        \"answer\": \"\"\"\n",
    "            집에서 코딩을 할 때에는 다음과 같은 아이템을 추천합니다:\n",
    "            -키보드 손목 받침대\n",
    "            -좋은 의자 (패브릭 소재 편안한 의자)\n",
    "            -좋은 키보드 (기계식 무소음 키보드)\n",
    "            -좋은 마우스 (버티컬 마우스)\n",
    "            -좋은 듀얼 모니터\n",
    "            -좋은 컴퓨터 (1660 super 이상, i5 12600kf 이상)\n",
    "        \"\"\"\n",
    "    },\n",
    "    {\n",
    "        \"question\": \"카페에서 코딩을 할 때 가지고 있으면 좋은 아이템을 알려줘.\",\n",
    "        \"answer\": \"\"\"\n",
    "            카페에서 코딩을 할 때에는 다음과 같은 아이템을 추천합니다:\n",
    "            -에어팟 (소음 최소화)\n",
    "            -맥북 (에어팟과 호환 가능, 코딩 할 때 쓰기 좋은 노트북)\n",
    "            -무선 키보드 (가볍고 편한 무소음 키보드)\n",
    "            -무선 마우스 (가볍고 조용한 무소음 축 마우스)\n",
    "            -마우스 패드 (작고 휴대성이 좋은 마우스 패드)\n",
    "        \"\"\"\n",
    "    },\n",
    "    {\n",
    "        \"question\": \"수영장에 갈 때 가지고 가면 좋은 아이템을 알려줘.\",\n",
    "        \"answer\": \"\"\"\n",
    "            수영장에 갈 때에는 다음과 같은 아이템을 추천합니다:\n",
    "            -수경 (수영을 위한 아이템)\n",
    "            -수영모 (머리카락 빠짐 방지)\n",
    "            -수영복 (수영을 위한 아이템)\n",
    "        \"\"\"\n",
    "    },\n",
    "]\n",
    "\n",
    "exmaple_prompt = PromptTemplate.from_template(\"Human: {question}\\nAI: {answer}\")\n",
    "\n",
    "prompt = FewShotPromptTemplate(\n",
    "    example_prompt=exmaple_prompt,\n",
    "    examples=examples,\n",
    "    suffix=\"Human: {purpose} 가지고 가면 좋은 아이템을 알려줘.\",\n",
    "    input_variables=[\"purpose\"]\n",
    "\n",
    ")\n",
    "\n",
    "chain = prompt | chat\n",
    "\n",
    "chain.invoke({\n",
    "    \"purpose\": \"한국에서 친척이랑 할머니, 할아버지 산소에 갈 때\"\n",
    "})"
   ]
  },
  {
   "cell_type": "code",
   "execution_count": null,
   "metadata": {},
   "outputs": [],
   "source": []
  }
 ],
 "metadata": {
  "kernelspec": {
   "display_name": "env",
   "language": "python",
   "name": "python3"
  },
  "language_info": {
   "codemirror_mode": {
    "name": "ipython",
    "version": 3
   },
   "file_extension": ".py",
   "mimetype": "text/x-python",
   "name": "python",
   "nbconvert_exporter": "python",
   "pygments_lexer": "ipython3",
   "version": "3.11.8"
  }
 },
 "nbformat": 4,
 "nbformat_minor": 2
}
