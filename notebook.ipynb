{
 "cells": [
  {
   "cell_type": "code",
   "execution_count": 3,
   "metadata": {},
   "outputs": [
    {
     "name": "stdout",
     "output_type": "stream",
     "text": [
      "영화관에 갈 때에는 다음과 같은 아이템을 추천합니다:\n",
      "-마스크 (다른 사람과의 거리 유지를 위해)\n",
      "-티슈나 손소독제 (영화를 보는 동안 사용할 수 있음)\n",
      "-물병 (수분 보충을 위해)\n",
      "-자켓이나 담요 (영화관이 시원할 수 있으므로)\n",
      "-휴대폰 (영화 시작 전에 조용히 사용 가능)"
     ]
    },
    {
     "data": {
      "text/plain": [
       "AIMessageChunk(content='영화관에 갈 때에는 다음과 같은 아이템을 추천합니다:\\n-마스크 (다른 사람과의 거리 유지를 위해)\\n-티슈나 손소독제 (영화를 보는 동안 사용할 수 있음)\\n-물병 (수분 보충을 위해)\\n-자켓이나 담요 (영화관이 시원할 수 있으므로)\\n-휴대폰 (영화 시작 전에 조용히 사용 가능)')"
      ]
     },
     "execution_count": 3,
     "metadata": {},
     "output_type": "execute_result"
    }
   ],
   "source": [
    "from langchain.chat_models import ChatOpenAI\n",
    "from langchain.prompts import ChatPromptTemplate\n",
    "from langchain.prompts.few_shot import FewShotChatMessagePromptTemplate\n",
    "from langchain.callbacks import StreamingStdOutCallbackHandler\n",
    "\n",
    "chat = ChatOpenAI(\n",
    "    max_tokens=1000,\n",
    "    temperature=0.1,\n",
    "    streaming=True,\n",
    "    callbacks=[StreamingStdOutCallbackHandler()]\n",
    ")\n",
    "\n",
    "examples = [\n",
    "    {\n",
    "        \"question\": \"집에서 코딩을 할 때\",\n",
    "        \"answer\": \"\"\"\n",
    "            집에서 코딩을 할 때에는 다음과 같은 아이템을 추천합니다:\n",
    "            -키보드 손목 받침대\n",
    "            -좋은 의자 (패브릭 소재 편안한 의자)\n",
    "            -좋은 키보드 (기계식 무소음 키보드)\n",
    "            -좋은 마우스 (버티컬 마우스)\n",
    "            -좋은 듀얼 모니터\n",
    "            -좋은 컴퓨터 (1660 super 이상, i5 12600kf 이상)\n",
    "        \"\"\"\n",
    "    },\n",
    "    {\n",
    "        \"question\": \"카페에서 코딩을 할 때\",\n",
    "        \"answer\": \"\"\"\n",
    "            카페에서 코딩을 할 때에는 다음과 같은 아이템을 추천합니다:\n",
    "            -에어팟 (소음 최소화)\n",
    "            -맥북 (에어팟과 호환 가능, 코딩 할 때 쓰기 좋은 노트북)\n",
    "            -무선 키보드 (가볍고 편한 무소음 키보드)\n",
    "            -무선 마우스 (가볍고 조용한 무소음 축 마우스)\n",
    "            -마우스 패드 (작고 휴대성이 좋은 마우스 패드)\n",
    "        \"\"\"\n",
    "    },\n",
    "    {\n",
    "        \"question\": \"수영장에 갈 때\",\n",
    "        \"answer\": \"\"\"\n",
    "            수영장에 갈 때에는 다음과 같은 아이템을 추천합니다:\n",
    "            -수경 (수영을 위한 아이템)\n",
    "            -수영모 (머리카락 빠짐 방지)\n",
    "            -수영복 (수영을 위한 아이템)\n",
    "        \"\"\"\n",
    "    },\n",
    "]\n",
    "\n",
    "exmaple_prompt = ChatPromptTemplate.from_messages([\n",
    "    (\"human\", \"{question} 가지고 가면 좋은 아이템을 알려줘.\"),\n",
    "    (\"ai\", \"{answer}\")\n",
    "])\n",
    "\n",
    "example_prompt = FewShotChatMessagePromptTemplate(\n",
    "    example_prompt=exmaple_prompt,\n",
    "    examples=examples,\n",
    ")\n",
    "\n",
    "final_prompot = ChatPromptTemplate.from_messages([\n",
    "    (\"system\", \"당신은 각 상황에 필요한 것을 잘 아는 뛰어난 전문가입니다.\"),\n",
    "    example_prompt,\n",
    "    (\"human\", \"{purpose} 가지고 가면 좋은 아이템을 알려줘.\")\n",
    "])\n",
    "\n",
    "chain = final_prompot | chat\n",
    "\n",
    "chain.invoke({\n",
    "    \"purpose\": \"영환관에 갈 때\"\n",
    "})"
   ]
  },
  {
   "cell_type": "code",
   "execution_count": null,
   "metadata": {},
   "outputs": [],
   "source": []
  }
 ],
 "metadata": {
  "kernelspec": {
   "display_name": "env",
   "language": "python",
   "name": "python3"
  },
  "language_info": {
   "codemirror_mode": {
    "name": "ipython",
    "version": 3
   },
   "file_extension": ".py",
   "mimetype": "text/x-python",
   "name": "python",
   "nbconvert_exporter": "python",
   "pygments_lexer": "ipython3",
   "version": "3.11.8"
  }
 },
 "nbformat": 4,
 "nbformat_minor": 2
}
