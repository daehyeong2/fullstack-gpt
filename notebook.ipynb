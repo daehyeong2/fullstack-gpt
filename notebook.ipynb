{
 "cells": [
  {
   "cell_type": "code",
   "execution_count": 1,
   "metadata": {},
   "outputs": [],
   "source": [
    "from langchain.memory import ConversationSummaryBufferMemory\n",
    "from langchain.chat_models import ChatOpenAI\n",
    "\n",
    "llm = ChatOpenAI(temperature=0.1, max_tokens=1000)\n",
    "\n",
    "memory = ConversationSummaryBufferMemory(\n",
    "    return_messages=True, llm=llm, max_token_limit=150\n",
    ")\n",
    "\n",
    "\n",
    "def add_message(input, output):\n",
    "    memory.save_context(\n",
    "        {\"input\": input},\n",
    "        {\"output\": output},\n",
    "    )\n",
    "\n",
    "\n",
    "def get_history():\n",
    "    return memory.load_memory_variables({})\n",
    "\n",
    "\n",
    "add_message(\n",
    "    \"안녕하세요, 제 이름은 고라니이고 자동차에 많이 치입니다. 한국 군부대에서 서식중입니다.\",\n",
    "    \"오! 매우 멋지네요!\",\n",
    ")"
   ]
  },
  {
   "cell_type": "code",
   "execution_count": 4,
   "metadata": {},
   "outputs": [],
   "source": [
    "add_message(\"차에 치이는 것은 기분이 좋아\", \"오 저도 한번 치여보고 싶네요.\")"
   ]
  },
  {
   "cell_type": "code",
   "execution_count": 9,
   "metadata": {},
   "outputs": [
    {
     "data": {
      "text/plain": [
       "{'history': [SystemMessage(content='The human introduces themselves as Gorani and mentions being hit by cars frequently. They are currently stationed in the Korean military.'),\n",
       "  AIMessage(content='오! 매우 멋지네요!'),\n",
       "  HumanMessage(content='차에 치이는 것은 기분이 좋아'),\n",
       "  AIMessage(content='오 저도 한번 치여보고 싶네요.'),\n",
       "  HumanMessage(content='내 생각에 한국은 운전자가 운전을 위험하게 해'),\n",
       "  AIMessage(content='그렇군요.'),\n",
       "  HumanMessage(content='너도 운전해보지 않을래?'),\n",
       "  AIMessage(content='아니요 저는 챗봇이라서 운전 못해요.')]}"
      ]
     },
     "execution_count": 9,
     "metadata": {},
     "output_type": "execute_result"
    }
   ],
   "source": [
    "get_history()"
   ]
  },
  {
   "cell_type": "code",
   "execution_count": 6,
   "metadata": {},
   "outputs": [],
   "source": [
    "add_message(\"내 생각에 한국은 운전자가 운전을 위험하게 해\", \"그렇군요.\")"
   ]
  },
  {
   "cell_type": "code",
   "execution_count": 8,
   "metadata": {},
   "outputs": [],
   "source": [
    "add_message(\"너도 운전해보지 않을래?\", \"아니요 저는 챗봇이라서 운전 못해요.\")"
   ]
  },
  {
   "cell_type": "code",
   "execution_count": null,
   "metadata": {},
   "outputs": [],
   "source": []
  }
 ],
 "metadata": {
  "kernelspec": {
   "display_name": "env",
   "language": "python",
   "name": "python3"
  },
  "language_info": {
   "codemirror_mode": {
    "name": "ipython",
    "version": 3
   },
   "file_extension": ".py",
   "mimetype": "text/x-python",
   "name": "python",
   "nbconvert_exporter": "python",
   "pygments_lexer": "ipython3",
   "version": "3.11.8"
  }
 },
 "nbformat": 4,
 "nbformat_minor": 2
}
